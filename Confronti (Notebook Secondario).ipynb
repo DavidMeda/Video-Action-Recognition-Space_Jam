{
 "cells": [
  {
   "cell_type": "markdown",
   "metadata": {
    "colab_type": "text",
    "id": "w9-8EIyUI_rm"
   },
   "source": [
    "# PROGETTO ANALISI DI IMMAGINI E VIDEO\n",
    "## Notebook confronti\n"
   ]
  },
  {
   "cell_type": "markdown",
   "metadata": {
    "colab_type": "text",
    "id": "DB9YKztnJXCO"
   },
   "source": [
    "* **Lorenzo Defina** Matr: 205146 \n",
    "* **Davide Medaglia** Matr: 207041"
   ]
  },
  {
   "cell_type": "markdown",
   "metadata": {},
   "source": [
    "Questo notebook viene presentato per effettuare dei confronti di performance su diversi parametri e scelte progettuali. \n",
    "In questo caso è stato utilizzata una piccola porzione dell'intero dataset, diviso in train e test, ma comunque rapprsentativa mantenendo la stessa proporzione di video per ogni classe.   "
   ]
  },
  {
   "cell_type": "code",
   "execution_count": 3,
   "metadata": {},
   "outputs": [
    {
     "name": "stdout",
     "output_type": "stream",
     "text": [
      "PyTorch Version:  1.5.1\n",
      "Torchvision Version:  0.6.1\n",
      "run on cuda\n"
     ]
    }
   ],
   "source": [
    "SEED = 9126\n",
    "\n",
    "import os\n",
    "import json\n",
    "import time\n",
    "from datetime import datetime\n",
    "import random\n",
    "import torch\n",
    "import torch.nn as nn\n",
    "import torch.nn.functional as F\n",
    "from torch.utils.data import Dataset, DataLoader\n",
    "from torchvision.datasets import DatasetFolder\n",
    "from torchvision import transforms, datasets, models\n",
    "import torchvision\n",
    "from torchvision import datasets\n",
    "import torch.optim as optim\n",
    "from torch.autograd import Variable\n",
    "from torch.optim.lr_scheduler import ReduceLROnPlateau\n",
    "print(\"PyTorch Version: \",torch.__version__)\n",
    "print(\"Torchvision Version: \",torchvision.__version__)\n",
    "\n",
    "import pandas as pd\n",
    "import numpy as np\n",
    "from sklearn.metrics import classification_report\n",
    "from sklearn.model_selection import train_test_split\n",
    "import cv2\n",
    "from glob import glob\n",
    "import shutil\n",
    "import timeit\n",
    "from datetime import datetime\n",
    "from tqdm import tqdm\n",
    "from PIL import Image\n",
    "import gc\n",
    "import warnings\n",
    "warnings.filterwarnings('ignore')\n",
    "import matplotlib.pyplot as plt\n",
    "%matplotlib inline\n",
    "\n",
    "np.random.seed(SEED)\n",
    "torch.manual_seed(SEED)\n",
    "torch.backends.cudnn.deterministic = True\n",
    "torch.backends.cudnn.benchmark = False\n",
    "\n",
    "USE_CUDA = True\n",
    "CUDA = USE_CUDA and torch.cuda.is_available()\n",
    "device = torch.device(\"cuda\" if CUDA else \"cpu\")\n",
    "if CUDA:\n",
    "    print('run on %s' % device)\n",
    "    "
   ]
  },
  {
   "cell_type": "code",
   "execution_count": 4,
   "metadata": {},
   "outputs": [
    {
     "name": "stdout",
     "output_type": "stream",
     "text": [
      "N° di video totali:  37085\n"
     ]
    },
    {
     "data": {
      "text/plain": [
       "(37085, 25959, 11126)"
      ]
     },
     "execution_count": 4,
     "metadata": {},
     "output_type": "execute_result"
    }
   ],
   "source": [
    "KEYSET_FILE ='./testset_keys_1lug2020.txt'\n",
    "labels_dict = {0 : \"block\", 1 : \"pass\", 2 : \"run\", 3: \"dribble\",4: \"shoot\",\n",
    "          5 : \"ball in hand\", 6 : \"defense\", 7: \"pick\" , 8 : \"no_action\" , \n",
    "          9: \"walk\" ,10: \"discard\"}\n",
    "\n",
    "with open(os.path.join('.', 'annotation_dict.json')) as fp:  \n",
    "    annotations = json.load(fp)    \n",
    "print('N° di video totali: ',len(annotations))\n",
    "\n",
    "with open(KEYSET_FILE) as fp:\n",
    "    keys_test = json.load(fp)\n",
    "\n",
    "annotationTraining = dict(filter(lambda x: x[0] not in keys_test, annotations.items()))\n",
    "annotationTest = dict(filter(lambda x: x[0] in keys_test, annotations.items()))\n",
    "\n",
    "len(annotations), len(annotationTraining), len(annotationTest)"
   ]
  },
  {
   "cell_type": "markdown",
   "metadata": {},
   "source": [
    "Dallo split dei file 'annotation train' e 'annotation test' vengono estratti delle porzioni di dati mantenendo la stessa stratificazione."
   ]
  },
  {
   "cell_type": "code",
   "execution_count": 5,
   "metadata": {},
   "outputs": [
    {
     "name": "stdout",
     "output_type": "stream",
     "text": [
      "Dimensioni training set:  260 260\n",
      "Dimensioni test set:  112 112\n"
     ]
    }
   ],
   "source": [
    "_x, train_x, _y, train_y = train_test_split(list(annotationTraining.keys()), list(annotationTraining.values()),\n",
    "                                                     test_size=0.01, random_state=SEED, stratify=list(annotationTraining.values()))\n",
    "\n",
    "_x, test_x, _y, test_y = train_test_split(list(annotationTest.keys()), list(annotationTest.values()),\n",
    "                                                     test_size=0.01, random_state=SEED, stratify=list(annotationTest.values()))\n",
    "\n",
    "print('Dimensioni training set: ',len(train_x), len(train_y))\n",
    "print('Dimensioni test set: ',len(test_x), len(test_y))"
   ]
  },
  {
   "cell_type": "code",
   "execution_count": 6,
   "metadata": {},
   "outputs": [],
   "source": [
    "annotationTraining = dict(zip(train_x, train_y))\n",
    "annotationTest = dict(zip(test_x, test_y))"
   ]
  },
  {
   "cell_type": "markdown",
   "metadata": {},
   "source": [
    "Dalla cartella di examples separiamo i video in due cartelle 'Video Train' e 'Video Test'"
   ]
  },
  {
   "cell_type": "code",
   "execution_count": null,
   "metadata": {
    "scrolled": true
   },
   "outputs": [],
   "source": [
    "# lascio solo i file del piccolo train\n",
    "def file_separation(FOLDER):\n",
    "    name_folder = ['Video Train', 'Video Test']\n",
    "    for name in name_folder:\n",
    "        if not os.path.isdir(os.path.join(FOLDER, name)):\n",
    "            os.mkdir(os.path.join(FOLDER, name))\n",
    "    for root, dirs, files in os.walk(FOLDER):\n",
    "        for name in files:\n",
    "            DIR_SRC = os.path.join(FOLDER, name)\n",
    "            vname = name.replace('.mp4', '') # elimino estensione nome\n",
    "            \n",
    "            if vname in train_x:\n",
    "                DIR_DST = os.path.join(FOLDER, 'Video Train')\n",
    "                shutil.move(DIR_SRC, DIR_DST)\n",
    "            elif vname in test_x:\n",
    "                DIR_DST = os.path.join(FOLDER, 'Video Test')\n",
    "                shutil.move(DIR_SRC, DIR_DST)\n",
    "            \n",
    "            else:\n",
    "                os.remove(DIR_SRC)\n",
    "                \n",
    "    print('DONE')\n",
    "\n",
    "\n",
    "FOLDER = '.\\examples2'\n",
    "file_separation(FOLDER)\n"
   ]
  },
  {
   "cell_type": "markdown",
   "metadata": {},
   "source": [
    "Per ogni cartella viene creata una suddivisione in 10 sotto-cartelle rappresentanti la 10 classi dei video in modo tale da avere per ogni sottocartella tutti i video appartenenti alla medesima classe."
   ]
  },
  {
   "cell_type": "code",
   "execution_count": 8,
   "metadata": {},
   "outputs": [],
   "source": [
    "# questa funzione crea le cartelle per le classi da 0 a 9\n",
    "def create_dir_separation(DIR_SOURCE, numClass=10):\n",
    "    for i in range(numClass):\n",
    "        DIR_CLASS = os.path.join(DIR_SOURCE,'classe'+str(i))\n",
    "        if not os.path.isdir(DIR_CLASS):\n",
    "            os.mkdir(os.path.join(DIR_SOURCE,'classe'+str(i)))\n",
    "            print('Creata classe {} esito: {}'.format(i, os.path.isdir(DIR_CLASS)))\n",
    "    print('DONE')\n",
    "        \n",
    "# questa funzione sposta i video nelle cartelle delle classi\n",
    "def class_separation(DIR_SOURCE, annotation):\n",
    "    nameVideo = [f for f in os.listdir(DIR_SOURCE) if f.endswith('.mp4')]\n",
    "    print(len(nameVideo))\n",
    "    \n",
    "    for name in nameVideo:\n",
    "        nvideo = name.replace('.mp4','')\n",
    "        classe = annotation[nvideo]\n",
    "        FOLDER_SRC = os.path.join(DIR_SOURCE, name)\n",
    "        FOLDER_DST = os.path.join(DIR_SOURCE,'classe'+str(classe))\n",
    "        shutil.move(FOLDER_SRC, FOLDER_DST)\n",
    "    \n",
    "    print('DONE')\n"
   ]
  },
  {
   "cell_type": "code",
   "execution_count": null,
   "metadata": {},
   "outputs": [],
   "source": [
    "\n",
    "# separiamo i video del training in classi\n",
    "now = time.time()\n",
    "DIR_SOURCE = './examples2/Video Train'\n",
    "create_dir_separation(DIR_SOURCE)\n",
    "print('-'*30)\n",
    "class_separation(DIR_SOURCE, annotationTraining)      \n",
    "print(time.time()-now)\n",
    "print('DONE')\n"
   ]
  },
  {
   "cell_type": "code",
   "execution_count": null,
   "metadata": {},
   "outputs": [],
   "source": [
    "\n",
    "# separiamo i video del test in classi\n",
    "now = time.time()\n",
    "DIR_SOURCE = './examples2/Video Test'\n",
    "create_dir_separation(DIR_SOURCE)\n",
    "print('-'*30)\n",
    "class_separation(DIR_SOURCE, annotationTest)      \n",
    "print(time.time()-now)\n",
    "print('DONE')\n"
   ]
  },
  {
   "cell_type": "markdown",
   "metadata": {},
   "source": [
    "## Funzioni di caricamento dei dati"
   ]
  },
  {
   "cell_type": "markdown",
   "metadata": {},
   "source": [
    "VideoFolder è la classe incaricata di caricare i video e le label"
   ]
  },
  {
   "cell_type": "code",
   "execution_count": 11,
   "metadata": {},
   "outputs": [],
   "source": [
    "VIDEO_EXTENSION = '.mp4'\n",
    "# carico i video con le rispettive label\n",
    "def video_loader(path):\n",
    "    with open(path, 'rb') as f:\n",
    "        video  = cv2.VideoCapture(path)\n",
    "        return video\n",
    "    \n",
    "    \n",
    "\n",
    "class VideoFolder(DatasetFolder):\n",
    "    def __init__(self, root, transform=None, target_transform=None, loader=video_loader, is_valid_file=None):\n",
    "        super(VideoFolder, self).__init__(root, loader, VIDEO_EXTENSION if is_valid_file is None else None,\n",
    "                                          transform=transform,\n",
    "                                          target_transform=None,\n",
    "                                          is_valid_file=is_valid_file)\n",
    "        self.video = self.samples"
   ]
  },
  {
   "cell_type": "code",
   "execution_count": 12,
   "metadata": {},
   "outputs": [],
   "source": [
    "train = VideoFolder(root='./examples2/Video Train')\n",
    "test = VideoFolder(root='./examples2/Video Test')"
   ]
  },
  {
   "cell_type": "markdown",
   "metadata": {},
   "source": [
    "VideoDataset è la classe incaricata di estrarre i frame dai video e assegnare le corrispondenti label"
   ]
  },
  {
   "cell_type": "code",
   "execution_count": 13,
   "metadata": {},
   "outputs": [],
   "source": [
    "class VideoDataset(Dataset):\n",
    "    '''\n",
    "    data = dizionario con video e label\n",
    "    trasform=  trasformazione da applicare a tutti i 16 frame di un video\n",
    "    '''\n",
    "    def __init__(self, data, transform):\n",
    "        self.transform = transform \n",
    "        self.data = data\n",
    "        \n",
    "    def __len__(self):\n",
    "        return (len(self.data))\n",
    "    \n",
    "    def __getitem__(self, index):\n",
    "        video, label = self.data[index]\n",
    "        frames_sequence = []\n",
    "        \n",
    "        while True:\n",
    "            ret, frame = video.read()\n",
    "            if ret != True:\n",
    "                break\n",
    "            frame = cv2.cvtColor(frame, cv2.COLOR_BGR2RGB)\n",
    "            frame = Image.fromarray(frame)\n",
    "            # apply trasform\n",
    "            frame = self.transform(frame)\n",
    "            frames_sequence.append(frame)\n",
    "        \n",
    "        frames_sequence = torch.stack(frames_sequence)\n",
    "        frames_sequence = torch.transpose(frames_sequence, 1, 0)\n",
    "        \n",
    "        return frames_sequence, label"
   ]
  },
  {
   "cell_type": "code",
   "execution_count": 14,
   "metadata": {},
   "outputs": [
    {
     "name": "stdout",
     "output_type": "stream",
     "text": [
      "Dimensioni training:  260\n",
      "Dimensioni test:  112\n"
     ]
    }
   ],
   "source": [
    "transformer = transforms.Compose([transforms.Resize((112,112)),transforms.ToTensor()])\n",
    "\n",
    "train_data = VideoDataset(data=train, transform=transformer)\n",
    "test_data = VideoDataset(data=test, transform=transformer)\n",
    "print('Dimensioni training: ', len(train_data))\n",
    "print('Dimensioni test: ', len(test_data))"
   ]
  },
  {
   "cell_type": "code",
   "execution_count": 15,
   "metadata": {},
   "outputs": [
    {
     "name": "stdout",
     "output_type": "stream",
     "text": [
      "BATCH_SIZE:  8\n",
      "Dimensioni train loader:  33\n",
      "Dimensioni test loader:  14\n",
      "------------------------------\n",
      "torch.Size([8, 3, 16, 112, 112]) torch.Size([8])\n"
     ]
    }
   ],
   "source": [
    "batch_size = 8\n",
    "\n",
    "trainloader = DataLoader(train_data, batch_size=batch_size, shuffle=True)\n",
    "testloader = DataLoader(test_data, batch_size=batch_size, shuffle=False)\n",
    "\n",
    "print('BATCH_SIZE: ', batch_size)\n",
    "print('Dimensioni train loader: ', len(trainloader))\n",
    "print('Dimensioni test loader: ', len(testloader))\n",
    "print('-'*30)\n",
    "trainiter = iter(trainloader)\n",
    "features, labels = next(trainiter)\n",
    "print(features.shape, labels.shape)"
   ]
  },
  {
   "cell_type": "markdown",
   "metadata": {},
   "source": [
    "## Rete ResNet3D\n",
    "Come rete è stata scelta ResNet3D poichè è risultata essere la miglior architettura per la classificazione di video e l'action recognition."
   ]
  },
  {
   "cell_type": "code",
   "execution_count": 16,
   "metadata": {},
   "outputs": [],
   "source": [
    "class BasicStem(nn.Sequential):\n",
    "    \"\"\"The default conv-batchnorm-relu stem\n",
    "    \"\"\"\n",
    "    def __init__(self):\n",
    "        super(BasicStem, self).__init__(\n",
    "            nn.Conv3d(3, 64, kernel_size=(3, 7, 7), stride=(1, 2, 2), padding=(1, 3, 3), bias=False),\n",
    "            nn.BatchNorm3d(64),\n",
    "            nn.ReLU(inplace=True))\n",
    "\n",
    "class Conv3DSimple(nn.Conv3d):\n",
    "    def __init__(self,\n",
    "                 in_planes,\n",
    "                 out_planes,\n",
    "                 midplanes=None,\n",
    "                 stride=1,\n",
    "                 padding=1):\n",
    "\n",
    "        super(Conv3DSimple, self).__init__(\n",
    "            in_channels=in_planes,\n",
    "            out_channels=out_planes,\n",
    "            kernel_size=(3, 3, 3),\n",
    "            stride=stride,\n",
    "            padding=padding,\n",
    "            bias=False)\n",
    "\n",
    "    def get_downsample_stride(stride):\n",
    "        return (stride, stride, stride)\n",
    "\n",
    "\n",
    "class BasicBlock(nn.Module):\n",
    "\n",
    "    expansion = 1\n",
    "\n",
    "    def __init__(self, inplanes, planes, conv_builder, stride=1, downsample=None):\n",
    "        midplanes = (inplanes * planes * 3 * 3 * 3) // (inplanes * 3 * 3 + 3 * planes)\n",
    "\n",
    "        super(BasicBlock, self).__init__()\n",
    "        self.conv1 = nn.Sequential(\n",
    "            conv_builder(inplanes, planes, midplanes, stride),\n",
    "            nn.BatchNorm3d(planes),\n",
    "            nn.ReLU(inplace=True)\n",
    "        )\n",
    "        self.conv2 = nn.Sequential(\n",
    "            conv_builder(planes, planes, midplanes),\n",
    "            nn.BatchNorm3d(planes)\n",
    "        )\n",
    "        self.relu = nn.ReLU(inplace=True)\n",
    "        self.downsample = downsample\n",
    "        self.stride = stride\n",
    "\n",
    "    def forward(self, x):\n",
    "        residual = x\n",
    "\n",
    "        out = self.conv1(x)\n",
    "        out = self.conv2(out)\n",
    "        if self.downsample is not None:\n",
    "            residual = self.downsample(x)\n",
    "\n",
    "        out += residual\n",
    "        out = self.relu(out)\n",
    "\n",
    "        return out\n",
    "\n",
    "\n",
    "class VideoResNet(nn.Module):\n",
    "\n",
    "    def __init__(self, num_classes, block, conv_makers, layers, stem):\n",
    "        '''\n",
    "        Args:\n",
    "            num_classes (int): dimensioni di output del layer fully-connected\n",
    "            block (nn.Module): resnet building block\n",
    "            conv_makers (list(functions)): generatore di funzione per ogni layer\n",
    "            layers (List[int]): numeri di block per ogni layer\n",
    "            stem (nn.Module, optional): Resnet stem\n",
    "            \n",
    "        '''\n",
    "        super(VideoResNet, self).__init__()\n",
    "        self.inplanes = 64\n",
    "\n",
    "        self.stem = stem()\n",
    "\n",
    "        self.layer1 = self._make_layer(block, conv_makers[0], 64, layers[0], stride=1)\n",
    "        self.layer2 = self._make_layer(block, conv_makers[1], 128, layers[1], stride=2)\n",
    "        self.layer3 = self._make_layer(block, conv_makers[2], 256, layers[2], stride=2)\n",
    "        self.layer4 = self._make_layer(block, conv_makers[3], 512, layers[3], stride=2)\n",
    "\n",
    "        self.avgpool = nn.AdaptiveAvgPool3d((1, 1, 1))\n",
    "        self.fc = nn.Linear(512 * block.expansion, num_classes)\n",
    "    \n",
    "       \n",
    "    def forward(self, x):\n",
    "        x = self.stem(x)\n",
    "\n",
    "        x = self.layer1(x)\n",
    "        x = self.layer2(x)\n",
    "        x = self.layer3(x)\n",
    "        x = self.layer4(x)\n",
    "\n",
    "        x = self.avgpool(x)\n",
    "        # Flatten the layer to fc\n",
    "        x = x.flatten(1)\n",
    "        x = self.fc(x)\n",
    "\n",
    "        return x\n",
    "\n",
    "    def _make_layer(self, block, conv_builder, planes, blocks, stride=1):\n",
    "        downsample = None\n",
    "\n",
    "        if stride != 1 or self.inplanes != planes * block.expansion:\n",
    "            ds_stride = conv_builder.get_downsample_stride(stride)\n",
    "            downsample = nn.Sequential(nn.Conv3d(self.inplanes, planes * block.expansion, \n",
    "                                                 kernel_size=1, stride=ds_stride, bias=False),\n",
    "                                                nn.BatchNorm3d(planes * block.expansion))\n",
    "        layers = []\n",
    "        layers.append(block(self.inplanes, planes, conv_builder, stride, downsample))\n",
    "\n",
    "        self.inplanes = planes * block.expansion\n",
    "        for i in range(1, blocks):\n",
    "            layers.append(block(self.inplanes, planes, conv_builder))\n",
    "\n",
    "        return nn.Sequential(*layers)\n",
    "\n",
    "def ResNet3D(num_classes):\n",
    "    return VideoResNet(num_classes, block=BasicBlock, conv_makers=[Conv3DSimple] * 4, layers=[2, 2, 2, 2], stem=BasicStem)"
   ]
  },
  {
   "cell_type": "markdown",
   "metadata": {},
   "source": [
    "## Funzioni di training e validation"
   ]
  },
  {
   "cell_type": "code",
   "execution_count": 17,
   "metadata": {},
   "outputs": [],
   "source": [
    "def accuracys_batch(target, output):    \n",
    "    # obtain output class    \n",
    "    pred = output.argmax(dim=1, keepdim=True)    \n",
    "    # compare output class with target class    \n",
    "    corrects = pred.eq(target.view_as(pred)).sum().item()    \n",
    "    return corrects \n",
    "\n",
    "def loss_epoch(model, loss_func, dataset_dl, opt=None):    \n",
    "    lossTot = 0.0   \n",
    "    accuracy = 0.0\n",
    "    acc_batch = []\n",
    "    loss_batch = []\n",
    "    \n",
    "    for inputs, labels in dataset_dl:        \n",
    "        inputs = Variable(inputs.to(device), requires_grad=True)       \n",
    "        labels = Variable(labels.to(device), requires_grad=False)       \n",
    "        predict = model(inputs)\n",
    "        \n",
    "        loss = loss_func(predict, labels) \n",
    "        loss_b = loss.item()\n",
    "        \n",
    "        accuracy_b = accuracys_batch(labels, predict)\n",
    "        if opt is not None: # only training\n",
    "            loss.backward()        \n",
    "            opt.step()        \n",
    "            opt.zero_grad()\n",
    "        \n",
    "        # stat\n",
    "        loss_batch.append(loss_b)\n",
    "        lossTot+=loss_b\n",
    "        acc_batch.append(accuracy_b/batch_size * 100)\n",
    "        if accuracy_b is not None:            \n",
    "            accuracy+=accuracy_b\n",
    "    \n",
    "    lossTot /= len(dataset_dl)     \n",
    "    accuracy /= len(dataset_dl.dataset)\n",
    "    \n",
    "    return lossTot, accuracy, acc_batch, loss_batch"
   ]
  },
  {
   "cell_type": "code",
   "execution_count": 18,
   "metadata": {},
   "outputs": [],
   "source": [
    "def training(epochs, model, loss_func, opt, scheduler, train_dl, val_dl, nome):\n",
    "    stat = pd.DataFrame(columns=['epoch', 'phase',  'train loss', 'loss batch', 'train acc', 'acc bath'])\n",
    "    loss_func.to(device)\n",
    "    for epoch in range(epochs):      \n",
    "        # training\n",
    "        model.train()      \n",
    "        train_loss, train_metric, acc_batch, loss_batch = loss_epoch(model,loss_func,train_dl,opt)\n",
    "        train_accuracy = train_metric*100\n",
    "        print('TRAIN - Epoca[{}/{}] - train loss: {:.6f} ({:.6f}), train accuracy: {:.2f}'.format(epoch+1, epochs,\n",
    "            train_loss, np.array(loss_batch).mean(), train_accuracy))\n",
    "        stat = stat.append({'epoch':epoch, 'phase':'TRAIN', 'train loss':train_loss, \n",
    "                            'loss batch':loss_batch,'train acc':train_accuracy, 'acc bath':acc_batch}, ignore_index=True)\n",
    "        \n",
    "        # validation\n",
    "        model.eval()        \n",
    "        with torch.no_grad():            \n",
    "            val_loss, val_metric, acc_batch, loss_batch = loss_epoch(model, loss_func, val_dl)        \n",
    "            val_accuracy=100*val_metric\n",
    "\n",
    "        print(\"  VALIDATION - Epoca {} - val loss: {:.6f} ({:.6f}), val accuracy: {:.2f} ({:.2f})\".format((epoch+1), \n",
    "                            val_loss, np.array(loss_batch).mean(), val_accuracy, np.array(acc_batch).mean()) )\n",
    "        \n",
    "        stat = stat.append({'epoch':epoch, 'phase':'VALIDATION', 'valid loss':val_loss, \n",
    "                            'loss batch':loss_batch, 'valid acc':val_accuracy, 'acc bath':acc_batch}, ignore_index=True)\n",
    "        \n",
    "        # aggiusto learning rate\n",
    "        scheduler.step(val_loss)\n",
    "        \n",
    "        # Empty cache\n",
    "        if torch.cuda.is_available():\n",
    "            torch.cuda.empty_cache()\n",
    "    save_model(epoch, model, opt, loss_func, scheduler, nome)        \n",
    "    stat.to_csv('./save/confronti/'+nome+'.csv', index=False)       \n",
    "    return model\n",
    "\n",
    "def save_model(epoch, model, opt, loss_func, scheduler,  name_model, save_dir='./save/confronti'):\n",
    "    if not os.path.isdir(save_dir):\n",
    "            os.mkdir('./save')\n",
    "            os.mkdir('./save/confronti')\n",
    "    \n",
    "    torch.save({\n",
    "        'epoch': epoch + 1,\n",
    "        'state_dict': model.state_dict(),\n",
    "        'opt_dict': opt.state_dict(),\n",
    "        'loss_dict': loss_func.state_dict(),\n",
    "        'sheduler_dict': scheduler.state_dict()\n",
    "    }, os.path.join(save_dir, name_model+'_epoch-' + str(epoch) + '.pth'))\n",
    "    \n",
    "    #stat.to_csv(os.path.join(save_dir, name_model+'_train_epoch-' + str(epoch) + '.csv'))\n",
    "    print(\"Save model at {}\".format(os.path.join(save_dir, name_model+'_epoch-' + str(epoch) + '.pth')))\n",
    "   \n"
   ]
  },
  {
   "cell_type": "markdown",
   "metadata": {},
   "source": [
    "Funzioni di plot dei risultati"
   ]
  },
  {
   "cell_type": "code",
   "execution_count": 19,
   "metadata": {},
   "outputs": [],
   "source": [
    "def loss_plot(dt1, dt2, name1, name2):\n",
    "    plt.figure(figsize=(16, 5))\n",
    "    plt.subplot(1,3, 1)\n",
    "    plt.plot(dt1[dt1['phase']=='TRAIN']['epoch'], dt1[dt1['phase']=='TRAIN']['train loss'], label=name1)\n",
    "    plt.plot(dt2[dt2['phase']=='TRAIN']['epoch'], dt2[dt2['phase']=='TRAIN']['train loss'], label=name2)\n",
    "    plt.title('Confronto Loss sul TRAINING')\n",
    "    plt.xlabel('epoche')\n",
    "    plt.ylabel('Loss')\n",
    "    plt.legend(frameon=False)\n",
    "\n",
    "    plt.subplot(1,3, 3)\n",
    "    plt.plot(dt1[dt1['phase']=='VALIDATION']['epoch'], dt1[dt1['phase']=='VALIDATION']['valid loss'], label=name1)\n",
    "    plt.plot(dt2[dt2['phase']=='VALIDATION']['epoch'], dt2[dt2['phase']=='VALIDATION']['valid loss'], label=name2)\n",
    "    plt.title('Confronto Loss sul VALIDATION')\n",
    "    plt.xlabel('epoche')\n",
    "    plt.ylabel('Loss')\n",
    "    plt.legend(frameon=False)\n",
    "    plt.show();"
   ]
  },
  {
   "cell_type": "code",
   "execution_count": 20,
   "metadata": {},
   "outputs": [],
   "source": [
    "def accuracy_plot(dt1, dt2, name1, name2):\n",
    "    plt.figure(figsize=(16, 5))\n",
    "    plt.subplot(1,3, 1)\n",
    "    plt.plot(dt1[dt1['phase']=='TRAIN']['epoch'], dt1[dt1['phase']=='TRAIN']['train acc'], label=name1)\n",
    "    plt.plot(dt2[dt2['phase']=='TRAIN']['epoch'], dt2[dt2['phase']=='TRAIN']['train acc'], label=name2)\n",
    "    plt.title('Confronto accuracy sul TRAINING')\n",
    "    plt.xlabel('epoche')\n",
    "    plt.ylabel('Accuracy')\n",
    "    plt.legend(frameon=False)\n",
    "\n",
    "    plt.subplot(1,3, 3)\n",
    "    plt.plot(dt1[dt1['phase']=='VALIDATION']['epoch'], dt1[dt1['phase']=='VALIDATION']['valid acc'], label=name1)\n",
    "    plt.plot(dt2[dt2['phase']=='VALIDATION']['epoch'], dt2[dt2['phase']=='VALIDATION']['valid acc'], label=name2)\n",
    "    plt.title('Confronto accuracy sul VALIDATION')\n",
    "    plt.xlabel('epoche')\n",
    "    plt.ylabel('Accuracy')\n",
    "    plt.legend(frameon=False)\n",
    "    plt.show();"
   ]
  },
  {
   "cell_type": "markdown",
   "metadata": {},
   "source": [
    "# 1° CONFRONTO: _tipo di addestramento della rete_\n",
    "## Addestramento _from scratch_ vs addestramento _fine-tuning_ (preaddestrato)\n",
    "\n",
    "Come primo confronto viene paraganata la rete preaddestrata con una rete non preaddestrata.\n",
    "\n",
    "I parametri di allenamento sono:\n",
    "* **batch size**: 8\n",
    "* **numero di epoche**: 8\n",
    "* **funzione di loss**: CrossEntropyLoss()\n",
    "* **learning rate**: 1e-3\n",
    "* **scheduler**: ReduceLROnPlateau(patience=5, factor=0.1,)\n",
    "* **optimizer**: SGD(momentum=0.9, weight_decay=5e-4)"
   ]
  },
  {
   "cell_type": "markdown",
   "metadata": {},
   "source": [
    "Iniziamo con la rete preaddestrata effettuando _fine-tuning_"
   ]
  },
  {
   "cell_type": "code",
   "execution_count": 21,
   "metadata": {},
   "outputs": [],
   "source": [
    "# i pesi sono compatibili con un numero di classe di output di 400\n",
    "model_r3d = ResNet3D(num_classes=400)\n",
    "model_r3d.load_state_dict(torch.load('./r3d_18-b3b3357e.pth', map_location='cpu'))\n",
    "\n",
    "# Freeze layer\n",
    "# Per impedire l'aggiornamento dei pesi del modello escludiamo i relativi tensori dal grafo di computazione\n",
    "for param in model_r3d.parameters():\n",
    "    param.requires_grad = False\n",
    "n_inputs = model_r3d.fc.in_features\n",
    "model_r3d.fc = nn.Linear(n_inputs, 10, bias=True)\n",
    "model_r3d.to(device)\n",
    "\n",
    "# Parametri:\n",
    "lr=1e-3 # Learning rate\n",
    "criterion = nn.CrossEntropyLoss()   \n",
    "optimizer = optim.SGD(model_r3d.parameters(), lr=lr, momentum=0.9, weight_decay=5e-4)\n",
    "scheduler = ReduceLROnPlateau(optimizer, mode='min', patience=5, factor=0.1, min_lr=1e-6) \n",
    "num_epochs=8"
   ]
  },
  {
   "cell_type": "code",
   "execution_count": 22,
   "metadata": {},
   "outputs": [
    {
     "name": "stdout",
     "output_type": "stream",
     "text": [
      "TRAIN - Epoca[1/8] - train loss: 2.059209 (2.059209), train accuracy: 27.69\n",
      "  VALIDATION - Epoca 1 - val loss: 1.927887 (1.927887), val accuracy: 27.68 (27.68)\n",
      "TRAIN - Epoca[2/8] - train loss: 1.859366 (1.859366), train accuracy: 32.31\n",
      "  VALIDATION - Epoca 2 - val loss: 1.838588 (1.838588), val accuracy: 33.93 (33.93)\n",
      "TRAIN - Epoca[3/8] - train loss: 1.733559 (1.733559), train accuracy: 38.46\n",
      "  VALIDATION - Epoca 3 - val loss: 1.884565 (1.884565), val accuracy: 33.04 (33.04)\n",
      "TRAIN - Epoca[4/8] - train loss: 1.669672 (1.669672), train accuracy: 39.62\n",
      "  VALIDATION - Epoca 4 - val loss: 1.842564 (1.842564), val accuracy: 36.61 (36.61)\n",
      "TRAIN - Epoca[5/8] - train loss: 1.555085 (1.555085), train accuracy: 47.31\n",
      "  VALIDATION - Epoca 5 - val loss: 1.734268 (1.734268), val accuracy: 36.61 (36.61)\n",
      "TRAIN - Epoca[6/8] - train loss: 1.493623 (1.493623), train accuracy: 50.77\n",
      "  VALIDATION - Epoca 6 - val loss: 1.699884 (1.699884), val accuracy: 42.86 (42.86)\n",
      "TRAIN - Epoca[7/8] - train loss: 1.411327 (1.411327), train accuracy: 53.08\n",
      "  VALIDATION - Epoca 7 - val loss: 1.676772 (1.676772), val accuracy: 43.75 (43.75)\n",
      "TRAIN - Epoca[8/8] - train loss: 1.381185 (1.381185), train accuracy: 56.15\n",
      "  VALIDATION - Epoca 8 - val loss: 1.676560 (1.676560), val accuracy: 38.39 (38.39)\n",
      "Save model at ./save/confronti\\ResNet3D pre-addestrata_epoch-7.pth\n"
     ]
    }
   ],
   "source": [
    "nome_prova = 'ResNet3D pre-addestrata'\n",
    "model_r3d_trained = training(num_epochs, model=model_r3d, loss_func=criterion, opt=optimizer, scheduler=scheduler, train_dl=trainloader , val_dl=testloader, nome=nome_prova)"
   ]
  },
  {
   "cell_type": "markdown",
   "metadata": {},
   "source": [
    "Usiamo la rete non preaddestrata allenandola _from scratch_"
   ]
  },
  {
   "cell_type": "code",
   "execution_count": 23,
   "metadata": {},
   "outputs": [],
   "source": [
    "model_r3d = ResNet3D(num_classes=10)\n",
    "model_r3d.to(device)\n",
    "\n",
    "# Parametri:\n",
    "lr=1e-3 # Learning rate\n",
    "criterion = nn.CrossEntropyLoss()   \n",
    "optimizer = optim.SGD(model_r3d.parameters(), lr=lr, momentum=0.9, weight_decay=5e-4)\n",
    "scheduler = ReduceLROnPlateau(optimizer, mode='min', patience=5, factor=0.1, min_lr=1e-6) \n",
    "num_epochs=8"
   ]
  },
  {
   "cell_type": "code",
   "execution_count": 24,
   "metadata": {},
   "outputs": [
    {
     "name": "stdout",
     "output_type": "stream",
     "text": [
      "TRAIN - Epoca[1/8] - train loss: 2.050630 (2.050630), train accuracy: 29.23\n",
      "  VALIDATION - Epoca 1 - val loss: 1.840850 (1.840850), val accuracy: 32.14 (32.14)\n",
      "TRAIN - Epoca[2/8] - train loss: 1.906054 (1.906054), train accuracy: 31.15\n",
      "  VALIDATION - Epoca 2 - val loss: 2.123390 (2.123390), val accuracy: 21.43 (21.43)\n",
      "TRAIN - Epoca[3/8] - train loss: 1.715178 (1.715178), train accuracy: 36.92\n",
      "  VALIDATION - Epoca 3 - val loss: 2.620155 (2.620155), val accuracy: 26.79 (26.79)\n",
      "TRAIN - Epoca[4/8] - train loss: 1.706244 (1.706244), train accuracy: 37.69\n",
      "  VALIDATION - Epoca 4 - val loss: 2.547120 (2.547120), val accuracy: 27.68 (27.68)\n",
      "TRAIN - Epoca[5/8] - train loss: 1.419403 (1.419403), train accuracy: 54.23\n",
      "  VALIDATION - Epoca 5 - val loss: 2.178154 (2.178154), val accuracy: 34.82 (34.82)\n",
      "TRAIN - Epoca[6/8] - train loss: 1.216482 (1.216482), train accuracy: 58.85\n",
      "  VALIDATION - Epoca 6 - val loss: 2.826464 (2.826464), val accuracy: 25.00 (25.00)\n",
      "TRAIN - Epoca[7/8] - train loss: 1.305269 (1.305269), train accuracy: 54.62\n",
      "  VALIDATION - Epoca 7 - val loss: 3.914352 (3.914352), val accuracy: 9.82 (9.82)\n",
      "TRAIN - Epoca[8/8] - train loss: 0.977906 (0.977906), train accuracy: 63.46\n",
      "  VALIDATION - Epoca 8 - val loss: 3.107917 (3.107917), val accuracy: 26.79 (26.79)\n",
      "Save model at ./save/confronti\\ResNet3D scratch_epoch-7.pth\n"
     ]
    }
   ],
   "source": [
    "nome_prova = 'ResNet3D scratch'\n",
    "model_r3d_trained = training(num_epochs, model=model_r3d, loss_func=criterion, opt=optimizer, scheduler=scheduler, train_dl=trainloader , val_dl=testloader, nome=nome_prova)"
   ]
  },
  {
   "cell_type": "code",
   "execution_count": 25,
   "metadata": {},
   "outputs": [],
   "source": [
    "scratch = pd.read_csv('./save/confronti/ResNet3D scratch.csv')\n",
    "tuning = pd.read_csv('./save/confronti/ResNet3D pre-addestrata.csv')"
   ]
  },
  {
   "cell_type": "markdown",
   "metadata": {},
   "source": [
    "## Grafici 1° confronto"
   ]
  },
  {
   "cell_type": "code",
   "execution_count": 24,
   "metadata": {},
   "outputs": [
    {
     "data": {
      "image/png": "[encoded data removed]",
      "text/plain": [
       "<Figure size 1152x360 with 2 Axes>"
      ]
     },
     "metadata": {
      "needs_background": "light"
     },
     "output_type": "display_data"
    }
   ],
   "source": [
    "loss_plot(scratch, tuning, 'ResNet3D scratch','ResNet3D preaddestrata' )"
   ]
  },
  {
   "cell_type": "code",
   "execution_count": 25,
   "metadata": {
    "scrolled": true
   },
   "outputs": [
    {
     "data": {
      "image/png": "[encoded data removed]",
      "text/plain": [
       "<Figure size 1152x360 with 2 Axes>"
      ]
     },
     "metadata": {
      "needs_background": "light"
     },
     "output_type": "display_data"
    }
   ],
   "source": [
    "accuracy_plot(scratch, tuning, 'ResNet3D scratch','ResNet3D preaddestrata' )"
   ]
  },
  {
   "cell_type": "markdown",
   "metadata": {},
   "source": [
    "### Considerazioni\n",
    "Dal confronto effettuato risulta evidente come l'utilizzo di una rete preaddestrata risulta essere vantaggiosa poichè è in grado di generalizzare maggiormente rispetto alla rete addestrata _from scratch_."
   ]
  },
  {
   "cell_type": "markdown",
   "metadata": {},
   "source": [
    "# 2° CONFRONTO: _funzione di loss_\n",
    "## CrossEntropy pesata sulle classi vs CrossEntropy non pesata\n",
    "\n",
    "\n",
    "I parametri di allenamento sono:\n",
    "* **batch size**: 8\n",
    "* **numero di epoche**: 8\n",
    "* **learning rate**: 1e-3\n",
    "* **scheduler**: ReduceLROnPlateau(patience=5, factor=0.1,)\n",
    "* **optimizer**: SGD(momentum=0.9, weight_decay=5e-4)\n",
    "* **rete pre-addestrata**"
   ]
  },
  {
   "cell_type": "markdown",
   "metadata": {},
   "source": [
    "**Funzione di loss pesata sulle classi**"
   ]
  },
  {
   "cell_type": "code",
   "execution_count": 26,
   "metadata": {
    "collapsed": true
   },
   "outputs": [
    {
     "data": {
      "text/plain": [
       "VideoResNet(\n",
       "  (stem): BasicStem(\n",
       "    (0): Conv3d(3, 64, kernel_size=(3, 7, 7), stride=(1, 2, 2), padding=(1, 3, 3), bias=False)\n",
       "    (1): BatchNorm3d(64, eps=1e-05, momentum=0.1, affine=True, track_running_stats=True)\n",
       "    (2): ReLU(inplace=True)\n",
       "  )\n",
       "  (layer1): Sequential(\n",
       "    (0): BasicBlock(\n",
       "      (conv1): Sequential(\n",
       "        (0): Conv3DSimple(64, 64, kernel_size=(3, 3, 3), stride=(1, 1, 1), padding=(1, 1, 1), bias=False)\n",
       "        (1): BatchNorm3d(64, eps=1e-05, momentum=0.1, affine=True, track_running_stats=True)\n",
       "        (2): ReLU(inplace=True)\n",
       "      )\n",
       "      (conv2): Sequential(\n",
       "        (0): Conv3DSimple(64, 64, kernel_size=(3, 3, 3), stride=(1, 1, 1), padding=(1, 1, 1), bias=False)\n",
       "        (1): BatchNorm3d(64, eps=1e-05, momentum=0.1, affine=True, track_running_stats=True)\n",
       "      )\n",
       "      (relu): ReLU(inplace=True)\n",
       "    )\n",
       "    (1): BasicBlock(\n",
       "      (conv1): Sequential(\n",
       "        (0): Conv3DSimple(64, 64, kernel_size=(3, 3, 3), stride=(1, 1, 1), padding=(1, 1, 1), bias=False)\n",
       "        (1): BatchNorm3d(64, eps=1e-05, momentum=0.1, affine=True, track_running_stats=True)\n",
       "        (2): ReLU(inplace=True)\n",
       "      )\n",
       "      (conv2): Sequential(\n",
       "        (0): Conv3DSimple(64, 64, kernel_size=(3, 3, 3), stride=(1, 1, 1), padding=(1, 1, 1), bias=False)\n",
       "        (1): BatchNorm3d(64, eps=1e-05, momentum=0.1, affine=True, track_running_stats=True)\n",
       "      )\n",
       "      (relu): ReLU(inplace=True)\n",
       "    )\n",
       "  )\n",
       "  (layer2): Sequential(\n",
       "    (0): BasicBlock(\n",
       "      (conv1): Sequential(\n",
       "        (0): Conv3DSimple(64, 128, kernel_size=(3, 3, 3), stride=(2, 2, 2), padding=(1, 1, 1), bias=False)\n",
       "        (1): BatchNorm3d(128, eps=1e-05, momentum=0.1, affine=True, track_running_stats=True)\n",
       "        (2): ReLU(inplace=True)\n",
       "      )\n",
       "      (conv2): Sequential(\n",
       "        (0): Conv3DSimple(128, 128, kernel_size=(3, 3, 3), stride=(1, 1, 1), padding=(1, 1, 1), bias=False)\n",
       "        (1): BatchNorm3d(128, eps=1e-05, momentum=0.1, affine=True, track_running_stats=True)\n",
       "      )\n",
       "      (relu): ReLU(inplace=True)\n",
       "      (downsample): Sequential(\n",
       "        (0): Conv3d(64, 128, kernel_size=(1, 1, 1), stride=(2, 2, 2), bias=False)\n",
       "        (1): BatchNorm3d(128, eps=1e-05, momentum=0.1, affine=True, track_running_stats=True)\n",
       "      )\n",
       "    )\n",
       "    (1): BasicBlock(\n",
       "      (conv1): Sequential(\n",
       "        (0): Conv3DSimple(128, 128, kernel_size=(3, 3, 3), stride=(1, 1, 1), padding=(1, 1, 1), bias=False)\n",
       "        (1): BatchNorm3d(128, eps=1e-05, momentum=0.1, affine=True, track_running_stats=True)\n",
       "        (2): ReLU(inplace=True)\n",
       "      )\n",
       "      (conv2): Sequential(\n",
       "        (0): Conv3DSimple(128, 128, kernel_size=(3, 3, 3), stride=(1, 1, 1), padding=(1, 1, 1), bias=False)\n",
       "        (1): BatchNorm3d(128, eps=1e-05, momentum=0.1, affine=True, track_running_stats=True)\n",
       "      )\n",
       "      (relu): ReLU(inplace=True)\n",
       "    )\n",
       "  )\n",
       "  (layer3): Sequential(\n",
       "    (0): BasicBlock(\n",
       "      (conv1): Sequential(\n",
       "        (0): Conv3DSimple(128, 256, kernel_size=(3, 3, 3), stride=(2, 2, 2), padding=(1, 1, 1), bias=False)\n",
       "        (1): BatchNorm3d(256, eps=1e-05, momentum=0.1, affine=True, track_running_stats=True)\n",
       "        (2): ReLU(inplace=True)\n",
       "      )\n",
       "      (conv2): Sequential(\n",
       "        (0): Conv3DSimple(256, 256, kernel_size=(3, 3, 3), stride=(1, 1, 1), padding=(1, 1, 1), bias=False)\n",
       "        (1): BatchNorm3d(256, eps=1e-05, momentum=0.1, affine=True, track_running_stats=True)\n",
       "      )\n",
       "      (relu): ReLU(inplace=True)\n",
       "      (downsample): Sequential(\n",
       "        (0): Conv3d(128, 256, kernel_size=(1, 1, 1), stride=(2, 2, 2), bias=False)\n",
       "        (1): BatchNorm3d(256, eps=1e-05, momentum=0.1, affine=True, track_running_stats=True)\n",
       "      )\n",
       "    )\n",
       "    (1): BasicBlock(\n",
       "      (conv1): Sequential(\n",
       "        (0): Conv3DSimple(256, 256, kernel_size=(3, 3, 3), stride=(1, 1, 1), padding=(1, 1, 1), bias=False)\n",
       "        (1): BatchNorm3d(256, eps=1e-05, momentum=0.1, affine=True, track_running_stats=True)\n",
       "        (2): ReLU(inplace=True)\n",
       "      )\n",
       "      (conv2): Sequential(\n",
       "        (0): Conv3DSimple(256, 256, kernel_size=(3, 3, 3), stride=(1, 1, 1), padding=(1, 1, 1), bias=False)\n",
       "        (1): BatchNorm3d(256, eps=1e-05, momentum=0.1, affine=True, track_running_stats=True)\n",
       "      )\n",
       "      (relu): ReLU(inplace=True)\n",
       "    )\n",
       "  )\n",
       "  (layer4): Sequential(\n",
       "    (0): BasicBlock(\n",
       "      (conv1): Sequential(\n",
       "        (0): Conv3DSimple(256, 512, kernel_size=(3, 3, 3), stride=(2, 2, 2), padding=(1, 1, 1), bias=False)\n",
       "        (1): BatchNorm3d(512, eps=1e-05, momentum=0.1, affine=True, track_running_stats=True)\n",
       "        (2): ReLU(inplace=True)\n",
       "      )\n",
       "      (conv2): Sequential(\n",
       "        (0): Conv3DSimple(512, 512, kernel_size=(3, 3, 3), stride=(1, 1, 1), padding=(1, 1, 1), bias=False)\n",
       "        (1): BatchNorm3d(512, eps=1e-05, momentum=0.1, affine=True, track_running_stats=True)\n",
       "      )\n",
       "      (relu): ReLU(inplace=True)\n",
       "      (downsample): Sequential(\n",
       "        (0): Conv3d(256, 512, kernel_size=(1, 1, 1), stride=(2, 2, 2), bias=False)\n",
       "        (1): BatchNorm3d(512, eps=1e-05, momentum=0.1, affine=True, track_running_stats=True)\n",
       "      )\n",
       "    )\n",
       "    (1): BasicBlock(\n",
       "      (conv1): Sequential(\n",
       "        (0): Conv3DSimple(512, 512, kernel_size=(3, 3, 3), stride=(1, 1, 1), padding=(1, 1, 1), bias=False)\n",
       "        (1): BatchNorm3d(512, eps=1e-05, momentum=0.1, affine=True, track_running_stats=True)\n",
       "        (2): ReLU(inplace=True)\n",
       "      )\n",
       "      (conv2): Sequential(\n",
       "        (0): Conv3DSimple(512, 512, kernel_size=(3, 3, 3), stride=(1, 1, 1), padding=(1, 1, 1), bias=False)\n",
       "        (1): BatchNorm3d(512, eps=1e-05, momentum=0.1, affine=True, track_running_stats=True)\n",
       "      )\n",
       "      (relu): ReLU(inplace=True)\n",
       "    )\n",
       "  )\n",
       "  (avgpool): AdaptiveAvgPool3d(output_size=(1, 1, 1))\n",
       "  (fc): Linear(in_features=512, out_features=10, bias=True)\n",
       ")"
      ]
     },
     "execution_count": 26,
     "metadata": {},
     "output_type": "execute_result"
    }
   ],
   "source": [
    "# i pesi sono compatibili con un numero di classe di output di 400\n",
    "model_r3d = ResNet3D(num_classes=400)\n",
    "model_r3d.load_state_dict(torch.load('./r3d_18-b3b3357e.pth', map_location='cpu'))\n",
    "\n",
    "# Freeze layer\n",
    "# Per impedire l'aggiornamento dei pesi del modello escludiamo i relativi tensori dal grafo di computazione\n",
    "for param in model_r3d.parameters():\n",
    "    param.requires_grad = False\n",
    "n_inputs = model_r3d.fc.in_features\n",
    "model_r3d.fc = nn.Linear(n_inputs, 10, bias=True)\n",
    "model_r3d.to(device)"
   ]
  },
  {
   "cell_type": "code",
   "execution_count": 27,
   "metadata": {},
   "outputs": [],
   "source": [
    "from sklearn.utils.class_weight import compute_class_weight\n",
    "# Learning rate\n",
    "lr=1e-3 \n",
    "\n",
    "# Crossentropy loss pesata\n",
    "weights = compute_class_weight('balanced', np.unique(list(annotationTraining.values())),[label[1] for label in annotationTraining.items() ])\n",
    "class_weights = torch.FloatTensor(weights)\n",
    "criterion = nn.CrossEntropyLoss(weight=class_weights)   \n",
    "\n",
    "optimizer = optim.SGD(model_r3d.parameters(), lr=lr, momentum=0.9, weight_decay=5e-4)\n",
    "\n",
    "# lo scheduler il learning rate per 0.1 ogni 5 epoche\n",
    "scheduler = ReduceLROnPlateau(optimizer, mode='min', patience=5, factor=0.1, min_lr=1e-6) \n",
    "\n",
    "num_epochs=8"
   ]
  },
  {
   "cell_type": "code",
   "execution_count": 28,
   "metadata": {},
   "outputs": [
    {
     "name": "stdout",
     "output_type": "stream",
     "text": [
      "TRAIN - Epoca[1/8] - train loss: 2.433528 (2.433528), train accuracy: 14.23\n",
      "  VALIDATION - Epoca 1 - val loss: 2.236968 (2.236968), val accuracy: 16.07 (16.07)\n",
      "TRAIN - Epoca[2/8] - train loss: 2.201042 (2.201042), train accuracy: 18.85\n",
      "  VALIDATION - Epoca 2 - val loss: 2.191767 (2.191767), val accuracy: 27.68 (27.68)\n",
      "TRAIN - Epoca[3/8] - train loss: 2.037711 (2.037711), train accuracy: 27.31\n",
      "  VALIDATION - Epoca 3 - val loss: 2.077584 (2.077584), val accuracy: 29.46 (29.46)\n",
      "TRAIN - Epoca[4/8] - train loss: 1.885839 (1.885839), train accuracy: 31.92\n",
      "  VALIDATION - Epoca 4 - val loss: 2.138078 (2.138078), val accuracy: 28.57 (28.57)\n",
      "TRAIN - Epoca[5/8] - train loss: 1.727684 (1.727684), train accuracy: 41.92\n",
      "  VALIDATION - Epoca 5 - val loss: 1.990589 (1.990589), val accuracy: 40.18 (40.18)\n",
      "TRAIN - Epoca[6/8] - train loss: 1.616077 (1.616077), train accuracy: 49.23\n",
      "  VALIDATION - Epoca 6 - val loss: 2.205711 (2.205711), val accuracy: 19.64 (19.64)\n",
      "TRAIN - Epoca[7/8] - train loss: 1.610087 (1.610087), train accuracy: 43.46\n",
      "  VALIDATION - Epoca 7 - val loss: 2.092805 (2.092805), val accuracy: 30.36 (30.36)\n",
      "TRAIN - Epoca[8/8] - train loss: 1.432497 (1.432497), train accuracy: 53.08\n",
      "  VALIDATION - Epoca 8 - val loss: 2.067883 (2.067883), val accuracy: 36.61 (36.61)\n",
      "Save model at ./save/confronti\\Loss pesata_epoch-7.pth\n"
     ]
    }
   ],
   "source": [
    "nome_prova = 'Loss pesata'\n",
    "model_r3d_trained = training(num_epochs, model=model_r3d, loss_func=criterion, opt=optimizer, scheduler=scheduler, train_dl=trainloader , val_dl=testloader, nome=nome_prova)"
   ]
  },
  {
   "cell_type": "markdown",
   "metadata": {},
   "source": [
    "**Funzione di loss non pesata**"
   ]
  },
  {
   "cell_type": "code",
   "execution_count": 29,
   "metadata": {
    "collapsed": true
   },
   "outputs": [
    {
     "data": {
      "text/plain": [
       "VideoResNet(\n",
       "  (stem): BasicStem(\n",
       "    (0): Conv3d(3, 64, kernel_size=(3, 7, 7), stride=(1, 2, 2), padding=(1, 3, 3), bias=False)\n",
       "    (1): BatchNorm3d(64, eps=1e-05, momentum=0.1, affine=True, track_running_stats=True)\n",
       "    (2): ReLU(inplace=True)\n",
       "  )\n",
       "  (layer1): Sequential(\n",
       "    (0): BasicBlock(\n",
       "      (conv1): Sequential(\n",
       "        (0): Conv3DSimple(64, 64, kernel_size=(3, 3, 3), stride=(1, 1, 1), padding=(1, 1, 1), bias=False)\n",
       "        (1): BatchNorm3d(64, eps=1e-05, momentum=0.1, affine=True, track_running_stats=True)\n",
       "        (2): ReLU(inplace=True)\n",
       "      )\n",
       "      (conv2): Sequential(\n",
       "        (0): Conv3DSimple(64, 64, kernel_size=(3, 3, 3), stride=(1, 1, 1), padding=(1, 1, 1), bias=False)\n",
       "        (1): BatchNorm3d(64, eps=1e-05, momentum=0.1, affine=True, track_running_stats=True)\n",
       "      )\n",
       "      (relu): ReLU(inplace=True)\n",
       "    )\n",
       "    (1): BasicBlock(\n",
       "      (conv1): Sequential(\n",
       "        (0): Conv3DSimple(64, 64, kernel_size=(3, 3, 3), stride=(1, 1, 1), padding=(1, 1, 1), bias=False)\n",
       "        (1): BatchNorm3d(64, eps=1e-05, momentum=0.1, affine=True, track_running_stats=True)\n",
       "        (2): ReLU(inplace=True)\n",
       "      )\n",
       "      (conv2): Sequential(\n",
       "        (0): Conv3DSimple(64, 64, kernel_size=(3, 3, 3), stride=(1, 1, 1), padding=(1, 1, 1), bias=False)\n",
       "        (1): BatchNorm3d(64, eps=1e-05, momentum=0.1, affine=True, track_running_stats=True)\n",
       "      )\n",
       "      (relu): ReLU(inplace=True)\n",
       "    )\n",
       "  )\n",
       "  (layer2): Sequential(\n",
       "    (0): BasicBlock(\n",
       "      (conv1): Sequential(\n",
       "        (0): Conv3DSimple(64, 128, kernel_size=(3, 3, 3), stride=(2, 2, 2), padding=(1, 1, 1), bias=False)\n",
       "        (1): BatchNorm3d(128, eps=1e-05, momentum=0.1, affine=True, track_running_stats=True)\n",
       "        (2): ReLU(inplace=True)\n",
       "      )\n",
       "      (conv2): Sequential(\n",
       "        (0): Conv3DSimple(128, 128, kernel_size=(3, 3, 3), stride=(1, 1, 1), padding=(1, 1, 1), bias=False)\n",
       "        (1): BatchNorm3d(128, eps=1e-05, momentum=0.1, affine=True, track_running_stats=True)\n",
       "      )\n",
       "      (relu): ReLU(inplace=True)\n",
       "      (downsample): Sequential(\n",
       "        (0): Conv3d(64, 128, kernel_size=(1, 1, 1), stride=(2, 2, 2), bias=False)\n",
       "        (1): BatchNorm3d(128, eps=1e-05, momentum=0.1, affine=True, track_running_stats=True)\n",
       "      )\n",
       "    )\n",
       "    (1): BasicBlock(\n",
       "      (conv1): Sequential(\n",
       "        (0): Conv3DSimple(128, 128, kernel_size=(3, 3, 3), stride=(1, 1, 1), padding=(1, 1, 1), bias=False)\n",
       "        (1): BatchNorm3d(128, eps=1e-05, momentum=0.1, affine=True, track_running_stats=True)\n",
       "        (2): ReLU(inplace=True)\n",
       "      )\n",
       "      (conv2): Sequential(\n",
       "        (0): Conv3DSimple(128, 128, kernel_size=(3, 3, 3), stride=(1, 1, 1), padding=(1, 1, 1), bias=False)\n",
       "        (1): BatchNorm3d(128, eps=1e-05, momentum=0.1, affine=True, track_running_stats=True)\n",
       "      )\n",
       "      (relu): ReLU(inplace=True)\n",
       "    )\n",
       "  )\n",
       "  (layer3): Sequential(\n",
       "    (0): BasicBlock(\n",
       "      (conv1): Sequential(\n",
       "        (0): Conv3DSimple(128, 256, kernel_size=(3, 3, 3), stride=(2, 2, 2), padding=(1, 1, 1), bias=False)\n",
       "        (1): BatchNorm3d(256, eps=1e-05, momentum=0.1, affine=True, track_running_stats=True)\n",
       "        (2): ReLU(inplace=True)\n",
       "      )\n",
       "      (conv2): Sequential(\n",
       "        (0): Conv3DSimple(256, 256, kernel_size=(3, 3, 3), stride=(1, 1, 1), padding=(1, 1, 1), bias=False)\n",
       "        (1): BatchNorm3d(256, eps=1e-05, momentum=0.1, affine=True, track_running_stats=True)\n",
       "      )\n",
       "      (relu): ReLU(inplace=True)\n",
       "      (downsample): Sequential(\n",
       "        (0): Conv3d(128, 256, kernel_size=(1, 1, 1), stride=(2, 2, 2), bias=False)\n",
       "        (1): BatchNorm3d(256, eps=1e-05, momentum=0.1, affine=True, track_running_stats=True)\n",
       "      )\n",
       "    )\n",
       "    (1): BasicBlock(\n",
       "      (conv1): Sequential(\n",
       "        (0): Conv3DSimple(256, 256, kernel_size=(3, 3, 3), stride=(1, 1, 1), padding=(1, 1, 1), bias=False)\n",
       "        (1): BatchNorm3d(256, eps=1e-05, momentum=0.1, affine=True, track_running_stats=True)\n",
       "        (2): ReLU(inplace=True)\n",
       "      )\n",
       "      (conv2): Sequential(\n",
       "        (0): Conv3DSimple(256, 256, kernel_size=(3, 3, 3), stride=(1, 1, 1), padding=(1, 1, 1), bias=False)\n",
       "        (1): BatchNorm3d(256, eps=1e-05, momentum=0.1, affine=True, track_running_stats=True)\n",
       "      )\n",
       "      (relu): ReLU(inplace=True)\n",
       "    )\n",
       "  )\n",
       "  (layer4): Sequential(\n",
       "    (0): BasicBlock(\n",
       "      (conv1): Sequential(\n",
       "        (0): Conv3DSimple(256, 512, kernel_size=(3, 3, 3), stride=(2, 2, 2), padding=(1, 1, 1), bias=False)\n",
       "        (1): BatchNorm3d(512, eps=1e-05, momentum=0.1, affine=True, track_running_stats=True)\n",
       "        (2): ReLU(inplace=True)\n",
       "      )\n",
       "      (conv2): Sequential(\n",
       "        (0): Conv3DSimple(512, 512, kernel_size=(3, 3, 3), stride=(1, 1, 1), padding=(1, 1, 1), bias=False)\n",
       "        (1): BatchNorm3d(512, eps=1e-05, momentum=0.1, affine=True, track_running_stats=True)\n",
       "      )\n",
       "      (relu): ReLU(inplace=True)\n",
       "      (downsample): Sequential(\n",
       "        (0): Conv3d(256, 512, kernel_size=(1, 1, 1), stride=(2, 2, 2), bias=False)\n",
       "        (1): BatchNorm3d(512, eps=1e-05, momentum=0.1, affine=True, track_running_stats=True)\n",
       "      )\n",
       "    )\n",
       "    (1): BasicBlock(\n",
       "      (conv1): Sequential(\n",
       "        (0): Conv3DSimple(512, 512, kernel_size=(3, 3, 3), stride=(1, 1, 1), padding=(1, 1, 1), bias=False)\n",
       "        (1): BatchNorm3d(512, eps=1e-05, momentum=0.1, affine=True, track_running_stats=True)\n",
       "        (2): ReLU(inplace=True)\n",
       "      )\n",
       "      (conv2): Sequential(\n",
       "        (0): Conv3DSimple(512, 512, kernel_size=(3, 3, 3), stride=(1, 1, 1), padding=(1, 1, 1), bias=False)\n",
       "        (1): BatchNorm3d(512, eps=1e-05, momentum=0.1, affine=True, track_running_stats=True)\n",
       "      )\n",
       "      (relu): ReLU(inplace=True)\n",
       "    )\n",
       "  )\n",
       "  (avgpool): AdaptiveAvgPool3d(output_size=(1, 1, 1))\n",
       "  (fc): Linear(in_features=512, out_features=10, bias=True)\n",
       ")"
      ]
     },
     "execution_count": 29,
     "metadata": {},
     "output_type": "execute_result"
    }
   ],
   "source": [
    "# i pesi sono compatibili con un numero di classe di output di 400\n",
    "model_r3d = ResNet3D(num_classes=400)\n",
    "model_r3d.load_state_dict(torch.load('./r3d_18-b3b3357e.pth', map_location='cpu'))\n",
    "\n",
    "# Freeze layer\n",
    "# Per impedire l'aggiornamento dei pesi del modello escludiamo i relativi tensori dal grafo di computazione\n",
    "for param in model_r3d.parameters():\n",
    "    param.requires_grad = False\n",
    "n_inputs = model_r3d.fc.in_features\n",
    "model_r3d.fc = nn.Linear(n_inputs, 10, bias=True)\n",
    "model_r3d.to(device)"
   ]
  },
  {
   "cell_type": "code",
   "execution_count": 30,
   "metadata": {},
   "outputs": [],
   "source": [
    "# Learning rate\n",
    "lr=1e-3 \n",
    "criterion = nn.CrossEntropyLoss()   \n",
    "optimizer = optim.SGD(model_r3d.parameters(), lr=lr, momentum=0.9, weight_decay=5e-4)\n",
    "scheduler = ReduceLROnPlateau(optimizer, mode='min', patience=5, factor=0.1, min_lr=1e-6) \n",
    "num_epochs=8"
   ]
  },
  {
   "cell_type": "code",
   "execution_count": 31,
   "metadata": {},
   "outputs": [
    {
     "name": "stdout",
     "output_type": "stream",
     "text": [
      "TRAIN - Epoca[1/8] - train loss: 2.134756 (2.134756), train accuracy: 26.92\n",
      "  VALIDATION - Epoca 1 - val loss: 1.859685 (1.859685), val accuracy: 33.04 (33.04)\n",
      "TRAIN - Epoca[2/8] - train loss: 1.818710 (1.818710), train accuracy: 35.38\n",
      "  VALIDATION - Epoca 2 - val loss: 1.802287 (1.802287), val accuracy: 36.61 (36.61)\n",
      "TRAIN - Epoca[3/8] - train loss: 1.735747 (1.735747), train accuracy: 36.54\n",
      "  VALIDATION - Epoca 3 - val loss: 1.751529 (1.751529), val accuracy: 41.07 (41.07)\n",
      "TRAIN - Epoca[4/8] - train loss: 1.641131 (1.641131), train accuracy: 41.54\n",
      "  VALIDATION - Epoca 4 - val loss: 1.739535 (1.739535), val accuracy: 38.39 (38.39)\n",
      "TRAIN - Epoca[5/8] - train loss: 1.558392 (1.558392), train accuracy: 47.69\n",
      "  VALIDATION - Epoca 5 - val loss: 1.716239 (1.716239), val accuracy: 38.39 (38.39)\n",
      "TRAIN - Epoca[6/8] - train loss: 1.524112 (1.524112), train accuracy: 43.85\n",
      "  VALIDATION - Epoca 6 - val loss: 1.727064 (1.727064), val accuracy: 39.29 (39.29)\n",
      "TRAIN - Epoca[7/8] - train loss: 1.410315 (1.410315), train accuracy: 50.00\n",
      "  VALIDATION - Epoca 7 - val loss: 1.689326 (1.689326), val accuracy: 46.43 (46.43)\n",
      "TRAIN - Epoca[8/8] - train loss: 1.402750 (1.402750), train accuracy: 52.31\n",
      "  VALIDATION - Epoca 8 - val loss: 1.642360 (1.642360), val accuracy: 44.64 (44.64)\n",
      "Save model at ./save/confronti\\Loss non pesata_epoch-7.pth\n"
     ]
    }
   ],
   "source": [
    "nome_prova = 'Loss non pesata'\n",
    "model_r3d_trained = training(num_epochs, model=model_r3d, loss_func=criterion, opt=optimizer, scheduler=scheduler, train_dl=trainloader , val_dl=testloader, nome=nome_prova)"
   ]
  },
  {
   "cell_type": "markdown",
   "metadata": {},
   "source": [
    "## Grafici 2° confronto "
   ]
  },
  {
   "cell_type": "code",
   "execution_count": 32,
   "metadata": {},
   "outputs": [],
   "source": [
    "noPesi = pd.read_csv('./save/confronti/LossNoPeso.csv')\n",
    "pesi = pd.read_csv('./save/confronti/LossPeso.csv')"
   ]
  },
  {
   "cell_type": "code",
   "execution_count": 34,
   "metadata": {},
   "outputs": [
    {
     "data": {
      "image/png": "[encoded data removed]",
      "text/plain": [
       "<Figure size 1152x360 with 2 Axes>"
      ]
     },
     "metadata": {
      "needs_background": "light"
     },
     "output_type": "display_data"
    }
   ],
   "source": [
    "loss_plot(noPesi, pesi, 'Loss non pesata', 'Loss pesata')"
   ]
  },
  {
   "cell_type": "code",
   "execution_count": 35,
   "metadata": {
    "scrolled": true
   },
   "outputs": [
    {
     "data": {
      "image/png": "[encoded data removed]",
      "text/plain": [
       "<Figure size 1152x360 with 2 Axes>"
      ]
     },
     "metadata": {
      "needs_background": "light"
     },
     "output_type": "display_data"
    }
   ],
   "source": [
    "accuracy_plot(noPesi, pesi, 'Loss non pesata', 'Loss pesata')"
   ]
  },
  {
   "cell_type": "markdown",
   "metadata": {},
   "source": [
    "### Considerazioni\n",
    "Dal confronto tra le due diverse funzioni di loss è emerso che nonstante nel dataset ci siano classi sblilanciate non è molto rilevante l'introduzione della loss basata sui pesi delle classi. "
   ]
  },
  {
   "cell_type": "markdown",
   "metadata": {},
   "source": [
    "# 3° CONFRONTO: _metodo di ottimizzazione_\n",
    "## Adam (Adaptive Moment Estimation) vs SGD (Stochastic Gradient Descent)\n",
    "\n",
    "I parametri di allenamento sono:\n",
    "* **batch size**: 8\n",
    "* **numero di epoche**: 8\n",
    "* **learning rate**: 1e-3\n",
    "* **scheduler**: ReduceLROnPlateau(patience=5, factor=0.1,)\n",
    "* **funzione di loss**: CrossEntropyLoss()\n",
    "* **rete pre-addestrata**"
   ]
  },
  {
   "cell_type": "markdown",
   "metadata": {},
   "source": [
    "**Ottimizzazione ADAM**"
   ]
  },
  {
   "cell_type": "code",
   "execution_count": 36,
   "metadata": {},
   "outputs": [],
   "source": [
    "# i pesi sono compatibili con un numero di classe di output di 400\n",
    "model_r3d = ResNet3D(num_classes=400)\n",
    "model_r3d.load_state_dict(torch.load('./r3d_18-b3b3357e.pth', map_location='cpu'))\n",
    "\n",
    "# Freeze layer\n",
    "# Per impedire l'aggiornamento dei pesi del modello escludiamo i relativi tensori dal grafo di computazione\n",
    "for param in model_r3d.parameters():\n",
    "    param.requires_grad = False\n",
    "n_inputs = model_r3d.fc.in_features\n",
    "model_r3d.fc = nn.Linear(n_inputs, 10, bias=True)\n",
    "   "
   ]
  },
  {
   "cell_type": "code",
   "execution_count": 37,
   "metadata": {},
   "outputs": [],
   "source": [
    "model_r3d.to(device)\n",
    "\n",
    "# Learning rate\n",
    "lr=1e-3 \n",
    "criterion = nn.CrossEntropyLoss()   \n",
    "optimizer = optim.Adam(model_r3d.parameters(), lr=lr)\n",
    "scheduler = ReduceLROnPlateau(optimizer, mode='min', patience=5, factor=0.1, min_lr=1e-6) \n",
    "num_epochs=8\n"
   ]
  },
  {
   "cell_type": "code",
   "execution_count": 38,
   "metadata": {},
   "outputs": [
    {
     "name": "stdout",
     "output_type": "stream",
     "text": [
      "TRAIN - Epoca[1/8] - train loss: 2.094163 (2.094163), train accuracy: 27.69\n",
      "  VALIDATION - Epoca 1 - val loss: 1.926640 (1.926640), val accuracy: 34.82 (34.82)\n",
      "TRAIN - Epoca[2/8] - train loss: 1.843320 (1.843320), train accuracy: 35.00\n",
      "  VALIDATION - Epoca 2 - val loss: 1.846561 (1.846561), val accuracy: 33.04 (33.04)\n",
      "TRAIN - Epoca[3/8] - train loss: 1.698820 (1.698820), train accuracy: 36.92\n",
      "  VALIDATION - Epoca 3 - val loss: 1.824556 (1.824556), val accuracy: 33.04 (33.04)\n",
      "TRAIN - Epoca[4/8] - train loss: 1.648022 (1.648022), train accuracy: 39.62\n",
      "  VALIDATION - Epoca 4 - val loss: 1.776650 (1.776650), val accuracy: 34.82 (34.82)\n",
      "TRAIN - Epoca[5/8] - train loss: 1.575073 (1.575073), train accuracy: 44.62\n",
      "  VALIDATION - Epoca 5 - val loss: 1.743480 (1.743480), val accuracy: 38.39 (38.39)\n",
      "TRAIN - Epoca[6/8] - train loss: 1.452028 (1.452028), train accuracy: 48.85\n",
      "  VALIDATION - Epoca 6 - val loss: 1.722202 (1.722202), val accuracy: 40.18 (40.18)\n",
      "TRAIN - Epoca[7/8] - train loss: 1.375107 (1.375107), train accuracy: 51.15\n",
      "  VALIDATION - Epoca 7 - val loss: 1.697617 (1.697617), val accuracy: 42.86 (42.86)\n",
      "TRAIN - Epoca[8/8] - train loss: 1.353879 (1.353879), train accuracy: 53.08\n",
      "  VALIDATION - Epoca 8 - val loss: 1.715286 (1.715286), val accuracy: 41.07 (41.07)\n",
      "Save model at ./save/confronti\\ADAM_epoch-7.pth\n"
     ]
    }
   ],
   "source": [
    "nome_prova = 'ADAM'\n",
    "model_r3d_trained = training(num_epochs, model=model_r3d, loss_func=criterion, opt=optimizer, scheduler=scheduler, train_dl=trainloader , val_dl=testloader, nome=nome_prova)"
   ]
  },
  {
   "cell_type": "markdown",
   "metadata": {},
   "source": [
    "**Ottimizzazione SGD**"
   ]
  },
  {
   "cell_type": "code",
   "execution_count": 39,
   "metadata": {
    "collapsed": true
   },
   "outputs": [
    {
     "data": {
      "text/plain": [
       "VideoResNet(\n",
       "  (stem): BasicStem(\n",
       "    (0): Conv3d(3, 64, kernel_size=(3, 7, 7), stride=(1, 2, 2), padding=(1, 3, 3), bias=False)\n",
       "    (1): BatchNorm3d(64, eps=1e-05, momentum=0.1, affine=True, track_running_stats=True)\n",
       "    (2): ReLU(inplace=True)\n",
       "  )\n",
       "  (layer1): Sequential(\n",
       "    (0): BasicBlock(\n",
       "      (conv1): Sequential(\n",
       "        (0): Conv3DSimple(64, 64, kernel_size=(3, 3, 3), stride=(1, 1, 1), padding=(1, 1, 1), bias=False)\n",
       "        (1): BatchNorm3d(64, eps=1e-05, momentum=0.1, affine=True, track_running_stats=True)\n",
       "        (2): ReLU(inplace=True)\n",
       "      )\n",
       "      (conv2): Sequential(\n",
       "        (0): Conv3DSimple(64, 64, kernel_size=(3, 3, 3), stride=(1, 1, 1), padding=(1, 1, 1), bias=False)\n",
       "        (1): BatchNorm3d(64, eps=1e-05, momentum=0.1, affine=True, track_running_stats=True)\n",
       "      )\n",
       "      (relu): ReLU(inplace=True)\n",
       "    )\n",
       "    (1): BasicBlock(\n",
       "      (conv1): Sequential(\n",
       "        (0): Conv3DSimple(64, 64, kernel_size=(3, 3, 3), stride=(1, 1, 1), padding=(1, 1, 1), bias=False)\n",
       "        (1): BatchNorm3d(64, eps=1e-05, momentum=0.1, affine=True, track_running_stats=True)\n",
       "        (2): ReLU(inplace=True)\n",
       "      )\n",
       "      (conv2): Sequential(\n",
       "        (0): Conv3DSimple(64, 64, kernel_size=(3, 3, 3), stride=(1, 1, 1), padding=(1, 1, 1), bias=False)\n",
       "        (1): BatchNorm3d(64, eps=1e-05, momentum=0.1, affine=True, track_running_stats=True)\n",
       "      )\n",
       "      (relu): ReLU(inplace=True)\n",
       "    )\n",
       "  )\n",
       "  (layer2): Sequential(\n",
       "    (0): BasicBlock(\n",
       "      (conv1): Sequential(\n",
       "        (0): Conv3DSimple(64, 128, kernel_size=(3, 3, 3), stride=(2, 2, 2), padding=(1, 1, 1), bias=False)\n",
       "        (1): BatchNorm3d(128, eps=1e-05, momentum=0.1, affine=True, track_running_stats=True)\n",
       "        (2): ReLU(inplace=True)\n",
       "      )\n",
       "      (conv2): Sequential(\n",
       "        (0): Conv3DSimple(128, 128, kernel_size=(3, 3, 3), stride=(1, 1, 1), padding=(1, 1, 1), bias=False)\n",
       "        (1): BatchNorm3d(128, eps=1e-05, momentum=0.1, affine=True, track_running_stats=True)\n",
       "      )\n",
       "      (relu): ReLU(inplace=True)\n",
       "      (downsample): Sequential(\n",
       "        (0): Conv3d(64, 128, kernel_size=(1, 1, 1), stride=(2, 2, 2), bias=False)\n",
       "        (1): BatchNorm3d(128, eps=1e-05, momentum=0.1, affine=True, track_running_stats=True)\n",
       "      )\n",
       "    )\n",
       "    (1): BasicBlock(\n",
       "      (conv1): Sequential(\n",
       "        (0): Conv3DSimple(128, 128, kernel_size=(3, 3, 3), stride=(1, 1, 1), padding=(1, 1, 1), bias=False)\n",
       "        (1): BatchNorm3d(128, eps=1e-05, momentum=0.1, affine=True, track_running_stats=True)\n",
       "        (2): ReLU(inplace=True)\n",
       "      )\n",
       "      (conv2): Sequential(\n",
       "        (0): Conv3DSimple(128, 128, kernel_size=(3, 3, 3), stride=(1, 1, 1), padding=(1, 1, 1), bias=False)\n",
       "        (1): BatchNorm3d(128, eps=1e-05, momentum=0.1, affine=True, track_running_stats=True)\n",
       "      )\n",
       "      (relu): ReLU(inplace=True)\n",
       "    )\n",
       "  )\n",
       "  (layer3): Sequential(\n",
       "    (0): BasicBlock(\n",
       "      (conv1): Sequential(\n",
       "        (0): Conv3DSimple(128, 256, kernel_size=(3, 3, 3), stride=(2, 2, 2), padding=(1, 1, 1), bias=False)\n",
       "        (1): BatchNorm3d(256, eps=1e-05, momentum=0.1, affine=True, track_running_stats=True)\n",
       "        (2): ReLU(inplace=True)\n",
       "      )\n",
       "      (conv2): Sequential(\n",
       "        (0): Conv3DSimple(256, 256, kernel_size=(3, 3, 3), stride=(1, 1, 1), padding=(1, 1, 1), bias=False)\n",
       "        (1): BatchNorm3d(256, eps=1e-05, momentum=0.1, affine=True, track_running_stats=True)\n",
       "      )\n",
       "      (relu): ReLU(inplace=True)\n",
       "      (downsample): Sequential(\n",
       "        (0): Conv3d(128, 256, kernel_size=(1, 1, 1), stride=(2, 2, 2), bias=False)\n",
       "        (1): BatchNorm3d(256, eps=1e-05, momentum=0.1, affine=True, track_running_stats=True)\n",
       "      )\n",
       "    )\n",
       "    (1): BasicBlock(\n",
       "      (conv1): Sequential(\n",
       "        (0): Conv3DSimple(256, 256, kernel_size=(3, 3, 3), stride=(1, 1, 1), padding=(1, 1, 1), bias=False)\n",
       "        (1): BatchNorm3d(256, eps=1e-05, momentum=0.1, affine=True, track_running_stats=True)\n",
       "        (2): ReLU(inplace=True)\n",
       "      )\n",
       "      (conv2): Sequential(\n",
       "        (0): Conv3DSimple(256, 256, kernel_size=(3, 3, 3), stride=(1, 1, 1), padding=(1, 1, 1), bias=False)\n",
       "        (1): BatchNorm3d(256, eps=1e-05, momentum=0.1, affine=True, track_running_stats=True)\n",
       "      )\n",
       "      (relu): ReLU(inplace=True)\n",
       "    )\n",
       "  )\n",
       "  (layer4): Sequential(\n",
       "    (0): BasicBlock(\n",
       "      (conv1): Sequential(\n",
       "        (0): Conv3DSimple(256, 512, kernel_size=(3, 3, 3), stride=(2, 2, 2), padding=(1, 1, 1), bias=False)\n",
       "        (1): BatchNorm3d(512, eps=1e-05, momentum=0.1, affine=True, track_running_stats=True)\n",
       "        (2): ReLU(inplace=True)\n",
       "      )\n",
       "      (conv2): Sequential(\n",
       "        (0): Conv3DSimple(512, 512, kernel_size=(3, 3, 3), stride=(1, 1, 1), padding=(1, 1, 1), bias=False)\n",
       "        (1): BatchNorm3d(512, eps=1e-05, momentum=0.1, affine=True, track_running_stats=True)\n",
       "      )\n",
       "      (relu): ReLU(inplace=True)\n",
       "      (downsample): Sequential(\n",
       "        (0): Conv3d(256, 512, kernel_size=(1, 1, 1), stride=(2, 2, 2), bias=False)\n",
       "        (1): BatchNorm3d(512, eps=1e-05, momentum=0.1, affine=True, track_running_stats=True)\n",
       "      )\n",
       "    )\n",
       "    (1): BasicBlock(\n",
       "      (conv1): Sequential(\n",
       "        (0): Conv3DSimple(512, 512, kernel_size=(3, 3, 3), stride=(1, 1, 1), padding=(1, 1, 1), bias=False)\n",
       "        (1): BatchNorm3d(512, eps=1e-05, momentum=0.1, affine=True, track_running_stats=True)\n",
       "        (2): ReLU(inplace=True)\n",
       "      )\n",
       "      (conv2): Sequential(\n",
       "        (0): Conv3DSimple(512, 512, kernel_size=(3, 3, 3), stride=(1, 1, 1), padding=(1, 1, 1), bias=False)\n",
       "        (1): BatchNorm3d(512, eps=1e-05, momentum=0.1, affine=True, track_running_stats=True)\n",
       "      )\n",
       "      (relu): ReLU(inplace=True)\n",
       "    )\n",
       "  )\n",
       "  (avgpool): AdaptiveAvgPool3d(output_size=(1, 1, 1))\n",
       "  (fc): Linear(in_features=512, out_features=10, bias=True)\n",
       ")"
      ]
     },
     "execution_count": 39,
     "metadata": {},
     "output_type": "execute_result"
    }
   ],
   "source": [
    "# i pesi sono compatibili con un numero di classe di output di 400\n",
    "model_r3d = ResNet3D(num_classes=400)\n",
    "model_r3d.load_state_dict(torch.load('./r3d_18-b3b3357e.pth', map_location='cpu'))\n",
    "\n",
    "# Freeze layer\n",
    "# Per impedire l'aggiornamento dei pesi del modello escludiamo i relativi tensori dal grafo di computazione\n",
    "for param in model_r3d.parameters():\n",
    "    param.requires_grad = False\n",
    "n_inputs = model_r3d.fc.in_features\n",
    "model_r3d.fc = nn.Linear(n_inputs, 10, bias=True)\n",
    "model_r3d.to(device)"
   ]
  },
  {
   "cell_type": "code",
   "execution_count": 40,
   "metadata": {},
   "outputs": [],
   "source": [
    "# Learning rate\n",
    "lr=1e-3 \n",
    "criterion = nn.CrossEntropyLoss()   \n",
    "optimizer = optim.SGD(model_r3d.parameters(), lr=lr, momentum=0.9, weight_decay=5e-4)\n",
    "scheduler = ReduceLROnPlateau(optimizer, mode='min', patience=5, factor=0.1, min_lr=1e-6) \n",
    "num_epochs=8"
   ]
  },
  {
   "cell_type": "code",
   "execution_count": 41,
   "metadata": {},
   "outputs": [
    {
     "name": "stdout",
     "output_type": "stream",
     "text": [
      "TRAIN - Epoca[1/8] - train loss: 2.074655 (2.074655), train accuracy: 26.54\n",
      "  VALIDATION - Epoca 1 - val loss: 1.913735 (1.913735), val accuracy: 29.46 (29.46)\n",
      "TRAIN - Epoca[2/8] - train loss: 1.871905 (1.871905), train accuracy: 34.23\n",
      "  VALIDATION - Epoca 2 - val loss: 1.805978 (1.805978), val accuracy: 31.25 (31.25)\n",
      "TRAIN - Epoca[3/8] - train loss: 1.740023 (1.740023), train accuracy: 38.08\n",
      "  VALIDATION - Epoca 3 - val loss: 1.756415 (1.756415), val accuracy: 38.39 (38.39)\n",
      "TRAIN - Epoca[4/8] - train loss: 1.628214 (1.628214), train accuracy: 45.00\n",
      "  VALIDATION - Epoca 4 - val loss: 1.706228 (1.706228), val accuracy: 32.14 (32.14)\n",
      "TRAIN - Epoca[5/8] - train loss: 1.546369 (1.546369), train accuracy: 46.92\n",
      "  VALIDATION - Epoca 5 - val loss: 1.712739 (1.712739), val accuracy: 39.29 (39.29)\n",
      "TRAIN - Epoca[6/8] - train loss: 1.496611 (1.496611), train accuracy: 47.31\n",
      "  VALIDATION - Epoca 6 - val loss: 1.701300 (1.701300), val accuracy: 39.29 (39.29)\n",
      "TRAIN - Epoca[7/8] - train loss: 1.481705 (1.481705), train accuracy: 48.08\n",
      "  VALIDATION - Epoca 7 - val loss: 1.645205 (1.645205), val accuracy: 41.07 (41.07)\n",
      "TRAIN - Epoca[8/8] - train loss: 1.372804 (1.372804), train accuracy: 56.54\n",
      "  VALIDATION - Epoca 8 - val loss: 1.663194 (1.663194), val accuracy: 39.29 (39.29)\n",
      "Save model at ./save/confronti\\SGD_epoch-7.pth\n"
     ]
    }
   ],
   "source": [
    "nome_prova = 'SGD'\n",
    "model_r3d_trained = training(num_epochs, model=model_r3d, loss_func=criterion, opt=optimizer, scheduler=scheduler, train_dl=trainloader , val_dl=testloader, nome=nome_prova)"
   ]
  },
  {
   "cell_type": "markdown",
   "metadata": {},
   "source": [
    "## Grafici 3° confronto"
   ]
  },
  {
   "cell_type": "code",
   "execution_count": 42,
   "metadata": {},
   "outputs": [],
   "source": [
    "SGD = pd.read_csv('./save/confronti/SGD.csv')\n",
    "adam = pd.read_csv('./save/confronti/ADAM.csv')"
   ]
  },
  {
   "cell_type": "code",
   "execution_count": 44,
   "metadata": {},
   "outputs": [
    {
     "data": {
      "image/png": "[encoded data removed]",
      "text/plain": [
       "<Figure size 1152x360 with 2 Axes>"
      ]
     },
     "metadata": {
      "needs_background": "light"
     },
     "output_type": "display_data"
    }
   ],
   "source": [
    "loss_plot(SGD, adam, 'SGD','ADAM')"
   ]
  },
  {
   "cell_type": "code",
   "execution_count": 48,
   "metadata": {},
   "outputs": [
    {
     "data": {
      "image/png": "[encoded data removed]",
      "text/plain": [
       "<Figure size 1152x360 with 2 Axes>"
      ]
     },
     "metadata": {
      "needs_background": "light"
     },
     "output_type": "display_data"
    }
   ],
   "source": [
    "accuracy_plot(SGD, adam, 'SGD','ADAM')"
   ]
  },
  {
   "cell_type": "markdown",
   "metadata": {},
   "source": [
    "### Considerazioni\n",
    "Nonostante nel paper di ResNet3D sia proposto l'utilizzo dell'ottimizzatore SGD (Stochastic Gradient Descent) dall'analisi fatta risulta più performante, nel caso di studio preso in esame, ADAM (Adaptive Moment Estimation) poichè presenta i vantiggi di maggior efficienza computazionale e minor uso di memoria."
   ]
  },
  {
   "cell_type": "markdown",
   "metadata": {},
   "source": [
    "# CONCLUSIONI\n",
    "\n",
    "Alla fine di questa analisi si riportano i parametri e le scelte progettuali effettuate:\n",
    "* **tipo di rete ResNet3D pre-addestrata**: usare una rete preaddestrata su un altro dataset aiuta a generalizzare maggiormente i dati\n",
    "* **optimazer ADAM**: questo ottimizzatore è risultato essere più efficiente rispetto a SGD\n",
    "* **funzione di loss CROSS ENTROPY non pesata**\n",
    "* **learning rate**: 1e-3\n",
    "* **scheduler**: ReduceLROnPlateau(patience=5, factor=0.1)"
   ]
  }
 ],
 "metadata": {
  "kernelspec": {
   "display_name": "Python 3",
   "language": "python",
   "name": "python3"
  },
  "language_info": {
   "codemirror_mode": {
    "name": "ipython",
    "version": 3
   },
   "file_extension": ".py",
   "mimetype": "text/x-python",
   "name": "python",
   "nbconvert_exporter": "python",
   "pygments_lexer": "ipython3",
   "version": "3.8.3"
  }
 },
 "nbformat": 4,
 "nbformat_minor": 4
}
